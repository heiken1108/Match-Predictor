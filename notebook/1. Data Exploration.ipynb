{
 "cells": [
  {
   "cell_type": "code",
   "execution_count": 1,
   "metadata": {},
   "outputs": [],
   "source": [
    "# ============================================================\n",
    "# Notebook setup\n",
    "# ============================================================\n",
    "\n",
    "%load_ext autoreload\n",
    "%autoreload 2\n",
    "\n",
    "# Control figure size\n",
    "figsize=(14, 4)\n",
    "\n",
    "from util import util\n",
    "import os\n",
    "import numpy as np\n",
    "import pandas as pd\n",
    "data_folder = os.path.join('..', 'data')\n",
    "file_name = \"Data\""
   ]
  },
  {
   "cell_type": "markdown",
   "metadata": {},
   "source": [
    "# Match Predictor\n",
    "\n",
    "Predicting the outcome of a football match is an important challenge withing the sports betting industry. The goal of a betting company is to produce odds that accurately measure the probability of each outcome of a match, in order to provide good and profitable odds to customers.\n",
    "\n",
    "Predicitng the outcome of a \n",
    "\n",
    "Predicting the outcome of a football match is a core problem within the sports betting industry. The goal of a betting company is to produce odds that accurately reflect the probable outcome of the match, in order to maintain a healthy profit margin. Predicting an outcome of a sports match is an inheently unceraint task, as the outcome is highly dependent on indivdual coincidences and random events. As a result, it is more relevant to predict the probability of a certain outcome, rather than the outcome itself.\n",
    "\n",
    "Predicting odds for a home win, draw and a away win is a difficult task. However, we want to approach the problem from this angle. To implement a predictor and evaluate it, we will aim to create a model which can assign a probibility of Home Victory, Draw and Away victory, and use this percentage to make a choice of whether it would bet on an outcome, or maybe not bet at all.\n",
    "\n",
    "Initially, the probability of each outcome is 33%, by a random pick. Our goal is to create a model that can predict the outcome of a match with a higher accuracy than this. To do this we will use historic data about previous matches."
   ]
  },
  {
   "cell_type": "code",
   "execution_count": null,
   "metadata": {},
   "outputs": [],
   "source": []
  }
 ],
 "metadata": {
  "kernelspec": {
   "display_name": "venv",
   "language": "python",
   "name": "python3"
  },
  "language_info": {
   "codemirror_mode": {
    "name": "ipython",
    "version": 3
   },
   "file_extension": ".py",
   "mimetype": "text/x-python",
   "name": "python",
   "nbconvert_exporter": "python",
   "pygments_lexer": "ipython3",
   "version": "3.11.4"
  }
 },
 "nbformat": 4,
 "nbformat_minor": 2
}
